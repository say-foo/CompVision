{
 "cells": [
  {
   "cell_type": "code",
   "execution_count": 5,
   "id": "c5e46bbd-3064-4071-bfff-ba25a92ac4fa",
   "metadata": {},
   "outputs": [],
   "source": [
    "import cv2\n",
    "import numpy as np"
   ]
  },
  {
   "cell_type": "code",
   "execution_count": null,
   "id": "23a4792d-5db4-4493-ad88-426697365faf",
   "metadata": {},
   "outputs": [],
   "source": [
    "#Hierarcy\n",
    ".\n",
    ".\n",
    ".\n",
    ".\n"
   ]
  },
  {
   "cell_type": "code",
   "execution_count": 23,
   "id": "4fd89560-6260-488d-bd33-efe399fb217a",
   "metadata": {},
   "outputs": [],
   "source": [
    "img = cv2.imread('hierarcy.jpg')\n",
    "\n",
    "gray = cv2.cvtColor(img, cv2.COLOR_BGR2GRAY)\n",
    "\n",
    "ret, thresh = cv2.threshold(gray, 127, 255, cv2.THRESH_BINARY)\n",
    "\n",
    "contours, hierarcy = cv2.findContours(thresh, cv2.RETR_EXTERNAL, cv2.CHAIN_APPROX_NONE)"
   ]
  },
  {
   "cell_type": "code",
   "execution_count": 24,
   "id": "572d6e21-c515-4065-a4e5-7bdf0ae86826",
   "metadata": {},
   "outputs": [
    {
     "data": {
      "text/plain": [
       "array([[[ 1, -1, -1, -1],\n",
       "        [ 2,  0, -1, -1],\n",
       "        [ 3,  1, -1, -1],\n",
       "        [-1,  2, -1, -1]]], dtype=int32)"
      ]
     },
     "execution_count": 24,
     "metadata": {},
     "output_type": "execute_result"
    }
   ],
   "source": [
    "hierarcy"
   ]
  },
  {
   "cell_type": "code",
   "execution_count": 25,
   "id": "7204a3d0-02e5-4841-b5db-61bac8a85c05",
   "metadata": {},
   "outputs": [],
   "source": [
    "for cnt in contours:\n",
    "    cv2.drawContours(img, cnt, -1, (0,0,255), 3)"
   ]
  },
  {
   "cell_type": "code",
   "execution_count": 26,
   "id": "7350dcd4-cdf7-4e6e-93f6-edc40285afcd",
   "metadata": {},
   "outputs": [],
   "source": [
    "cv2.imshow(\"Drawing Contour - Method External\", img)\n",
    "cv2.waitKey(0)\n",
    "cv2.destroyAllWindows()\n"
   ]
  },
  {
   "cell_type": "code",
   "execution_count": 27,
   "id": "dee018c5-3a34-4751-aa88-1e7b59cf47fc",
   "metadata": {},
   "outputs": [],
   "source": [
    "img = cv2.imread('hierarcy.jpg')\n",
    "\n",
    "gray = cv2.cvtColor(img, cv2.COLOR_BGR2GRAY)\n",
    "\n",
    "ret, thresh = cv2.threshold(gray, 127, 255, cv2.THRESH_BINARY)\n",
    "\n",
    "contours, hierarcy = cv2.findContours(thresh, cv2.RETR_TREE, cv2.CHAIN_APPROX_NONE)"
   ]
  },
  {
   "cell_type": "code",
   "execution_count": 28,
   "id": "6dc7ddee-9dff-48a6-b5ae-90f4be0a8b3e",
   "metadata": {},
   "outputs": [
    {
     "data": {
      "text/plain": [
       "array([[[ 2, -1,  1, -1],\n",
       "        [-1, -1, -1,  0],\n",
       "        [ 3,  0, -1, -1],\n",
       "        [ 4,  2, -1, -1],\n",
       "        [-1,  3,  5, -1],\n",
       "        [-1, -1,  6,  4],\n",
       "        [ 7, -1, -1,  5],\n",
       "        [ 8,  6, -1,  5],\n",
       "        [ 9,  7, -1,  5],\n",
       "        [10,  8, -1,  5],\n",
       "        [11,  9, -1,  5],\n",
       "        [12, 10, -1,  5],\n",
       "        [21, 11, 13,  5],\n",
       "        [14, -1, -1, 12],\n",
       "        [15, 13, -1, 12],\n",
       "        [16, 14, -1, 12],\n",
       "        [17, 15, -1, 12],\n",
       "        [18, 16, -1, 12],\n",
       "        [19, 17, -1, 12],\n",
       "        [20, 18, -1, 12],\n",
       "        [-1, 19, -1, 12],\n",
       "        [22, 12, -1,  5],\n",
       "        [-1, 21, -1,  5]]], dtype=int32)"
      ]
     },
     "execution_count": 28,
     "metadata": {},
     "output_type": "execute_result"
    }
   ],
   "source": [
    "hierarcy"
   ]
  },
  {
   "cell_type": "code",
   "execution_count": 29,
   "id": "2b1a3424-7f7b-4339-8495-eb995d1f696a",
   "metadata": {},
   "outputs": [],
   "source": [
    "for cnt in contours:\n",
    "    cv2.drawContours(img, cnt, -1, (0,0,255), 3)"
   ]
  },
  {
   "cell_type": "code",
   "execution_count": 30,
   "id": "bcfa7abc-dcbb-46da-afb2-4707a35214ff",
   "metadata": {},
   "outputs": [],
   "source": [
    "cv2.imshow(\"Drawing Contour - Method TREE\", img)\n",
    "cv2.waitKey(0)\n",
    "cv2.destroyAllWindows()"
   ]
  },
  {
   "cell_type": "code",
   "execution_count": 31,
   "id": "22faeb5e-c765-4fc1-8c60-26a0c8256df9",
   "metadata": {},
   "outputs": [],
   "source": [
    "img = cv2.imread('hierarcy.jpg')\n",
    "\n",
    "gray = cv2.cvtColor(img, cv2.COLOR_BGR2GRAY)\n",
    "\n",
    "ret, thresh = cv2.threshold(gray, 127, 255, cv2.THRESH_BINARY)\n",
    "\n",
    "contours, hierarcy = cv2.findContours(thresh, cv2.RETR_CCOMP, cv2.CHAIN_APPROX_NONE)"
   ]
  },
  {
   "cell_type": "code",
   "execution_count": 32,
   "id": "935fa6f3-cf3d-4bdb-b376-7e2cab0c6add",
   "metadata": {},
   "outputs": [],
   "source": [
    "for cnt in contours:\n",
    "    cv2.drawContours(img, cnt, -1, (0,0,255), 3)"
   ]
  },
  {
   "cell_type": "code",
   "execution_count": 22,
   "id": "9d0183cb-f628-424f-bc27-80a5cfc5c1c8",
   "metadata": {},
   "outputs": [],
   "source": [
    "cv2.imshow(\"Drawing Contour - Method CCOMP\", img)\n",
    "cv2.waitKey(0)\n",
    "cv2.destroyAllWindows()"
   ]
  },
  {
   "cell_type": "code",
   "execution_count": null,
   "id": "b3d06744-f854-4e42-b3fb-476cbdf444a0",
   "metadata": {},
   "outputs": [],
   "source": [
    "#TEKS\n",
    "\n",
    ".\n",
    ".\n",
    ".\n",
    ".\n",
    "."
   ]
  },
  {
   "cell_type": "code",
   "execution_count": 33,
   "id": "05b4a9a1-34b5-414f-8111-e19f8f64e4c4",
   "metadata": {},
   "outputs": [],
   "source": [
    "img = cv2.imread('abcd.png')\n",
    "\n",
    "gray = cv2.cvtColor(img, cv2.COLOR_BGR2GRAY)\n",
    "\n",
    "ret, thresh = cv2.threshold(gray, 100, 255, cv2.THRESH_BINARY_INV)\n",
    "\n",
    "contours, hierarchy = cv2.findContours(thresh, cv2.RETR_EXTERNAL, cv2.CHAIN_APPROX_NONE)\n",
    "\n",
    "for cnt in contours:\n",
    "    cv2.drawContours(img, cnt, -1, (255,0,255), 6)\n",
    "    \n",
    "cv2.imshow(\"Drawing Contour\", img)\n",
    "cv2.imshow(\"Binary\", thresh)\n",
    "cv2.waitKey(0)\n",
    "cv2.destroyAllWindows()"
   ]
  },
  {
   "cell_type": "code",
   "execution_count": null,
   "id": "d24dad9b-3828-40b3-a420-777027bcd51f",
   "metadata": {},
   "outputs": [],
   "source": []
  }
 ],
 "metadata": {
  "kernelspec": {
   "display_name": "Python 3 (ipykernel)",
   "language": "python",
   "name": "python3"
  },
  "language_info": {
   "codemirror_mode": {
    "name": "ipython",
    "version": 3
   },
   "file_extension": ".py",
   "mimetype": "text/x-python",
   "name": "python",
   "nbconvert_exporter": "python",
   "pygments_lexer": "ipython3",
   "version": "3.9.5"
  }
 },
 "nbformat": 4,
 "nbformat_minor": 5
}
